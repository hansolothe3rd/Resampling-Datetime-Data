{
 "cells": [
  {
   "cell_type": "markdown",
   "id": "a6a53e6f",
   "metadata": {},
   "source": [
    "# Resampling Datetime Data\n",
    "- Daniel Barella\n",
    "- 3/2/23"
   ]
  },
  {
   "cell_type": "markdown",
   "id": "bffe9305",
   "metadata": {},
   "source": [
    "For this assignment, you will be working with a modified version of [weather data from London from Kaggle](https://www.kaggle.com/datasets/emmanuelfwerr/london-weather-data). \n",
    "\n",
    "The assignment is split into 3 parts:\n",
    "\n",
    "- Part 1: Load the data and create a datetime index\n",
    "\n",
    "- Part 2: Answer 2 Questions using Visualizations and the Correct Frequency Data\n",
    "\n",
    "## Part 1) Load the data and make a datetime index.\n",
    "- Use the modified version of the data provided here:\n",
    "    - Share URL: https://docs.google.com/spreadsheets/d/1J2hEGA1-ZOdXOc1Go2AjB7xShq-nAvIDpBz_XRZscHU/edit?usp=sharing\n",
    "    - Raw URL:\n",
    "        - https://docs.google.com/spreadsheets/d/e/2PACX-1vT_jChgNsQbHbg4TGepzIqk8XC9DTIKmyyxb1upo5cfZCgbfIUQc2ZC0YMzuU5uApP140Ob49KBjdqh/pub?gid=1198589591&single=true&output=csv \n",
    "\n",
    "You must first load in the data and create a datetime index.\n",
    "\n",
    "1. Convert the date column to datetime dtype.\n",
    "2. Set the date column as the index.\n",
    "3. Filter out only the required data:\n",
    "    - Keep only data from the year 2000 or later.\n",
    "    - Keep only the following features:\n",
    "        - precipitation\n",
    "        - mean_temp\n",
    "        - min_temp\n",
    "        - max_temp\n",
    "        - snow_depth\n",
    "4. Impute any missing values.\n",
    "    - Think about each feature and what imputation method makes sense. You may not be able to use the same method for every feature!\n",
    "        "
   ]
  },
  {
   "cell_type": "markdown",
   "id": "e2bfb690",
   "metadata": {},
   "source": [
    "## Part 2) Answer the Questions with Visualizations (Using the Correct Frequency)\n",
    "- For each of the following questions, make a new copy of the dataframe resampled to the correct frequency for the question.\n",
    "- Plot the feature that the question is asking about.\n",
    "    - If there is a specific time period, plot only that time period.\n",
    "Note: you may want to make a temporary DataFrame that you will use to answer this question only."
   ]
  },
  {
   "cell_type": "markdown",
   "id": "069a2354",
   "metadata": {},
   "source": [
    "## Q1: What month had the most precipitation between 2000 through 2010?\n",
    "- Resample the data as Monthly frequency.\n",
    "- Find the date and corresponding value for the max precipitation.\n",
    "- Plot the feature and time period that corresponds to the question.\n",
    "    - Make sure to meet the \"Visualization Requirements\" below!\n",
    "- Determine the date and value for the most precipitation (the max precipitation).\n",
    "- Add a vertical line at this date with a label that says the date (using date format: \"April 2000\") and the max precipitation value.\n",
    "    - Make sure to add a legend so that your label is visible."
   ]
  },
  {
   "attachments": {
    "image.png": {
     "image/png": "[encoded data removed]"
    }
   },
   "cell_type": "markdown",
   "id": "daf59777",
   "metadata": {},
   "source": [
    "### Visualization Issue Workaround\n",
    "- NOTE: Pandas' .plot method currently has a bug with 4-digit year axis labels. The tick labels misbehave when being formatted with matplotlib and will produce a mostly-blank axis with 1 year labeled, like the screenshot below:\n",
    "\n",
    "![image.png](attachment:image.png)\n",
    "\n",
    "- To get around this issue, first create your fig and ax using plt.subplots() \n",
    "    - Now you may use pandas .plot method to plot onto this figure by adding \"ax=ax\" to .plot. "
   ]
  },
  {
   "cell_type": "code",
   "execution_count": 5,
   "id": "bed59439",
   "metadata": {},
   "outputs": [],
   "source": [
    "# fig, ax = plt.subplots(figsize=(12,3))\n",
    "# df.plot(ax=ax)"
   ]
  },
  {
   "cell_type": "markdown",
   "id": "a6470362",
   "metadata": {},
   "source": [
    "## Q1 Visualization Requirements\n",
    "- Use a combination of pandas, matplotlib tick formatters, tick locators, and the fig.autofmt_xdate method to:\n",
    "    - Create a wide figure (e.g. figsize=(12,3))\n",
    "        - With a title of \"Precipitation for 2000-2010\"\n",
    "        - With a ylabel of \"Inches\"\n",
    "    - Customize the major xaxis ticks to:\n",
    "        - Have major xaxis ticks every 1 year.\n",
    "        - Use 4-digit years for the labels\n",
    "        - Have the major ticks' labels rotated 90 degrees.\n",
    "    - Customize the minor xaxis ticks to:\n",
    "        - Have minor xaxis ticks every 3 months\n",
    "        - Do not label the minor ticks."
   ]
  },
  {
   "cell_type": "markdown",
   "id": "1e4b3f80",
   "metadata": {},
   "source": [
    "## Q2: Which year between 2000-2020 had the coolest average temperature?\n",
    "- Resample the data as Yearly frequency.\n",
    "\n",
    "- Find the date and corresponding value for the max mean temp.\n",
    "\n",
    "- Plot the feature and time period that corresponds to the question.\n",
    "\n",
    "    - Make sure to meet the \"Visualization Requirements\" below!\n",
    "- Determine the date and value for the lowest mean temp.\n",
    "\n",
    "- Add a vertical line at this date with a label that says the date (using date format: \"2000\") and the max precipitation value.\n",
    "\n",
    "- and what was the temperature?"
   ]
  },
  {
   "cell_type": "markdown",
   "id": "50391940",
   "metadata": {},
   "source": [
    "## Q2 Visualization Requirements\n",
    "- Use a combination of pandas, matplotlib tick formatters, tick locators, and the fig.autofmt_xdate method to:\n",
    "    - Create a wide figure (e.g. figsize=(12,3))\n",
    "        - With a title of \"Average Temperature\"\n",
    "        - With a ylabel of \"Degrees\"\n",
    "    - Customize the major xaxis ticks to:\n",
    "        - Have major xaxis ticks every 5 years.\n",
    "        - Use 4-digit years for the labels\n",
    "        - Have the major ticks' labels rotated 90 degrees.\n",
    "    - Customize the minor xaxis ticks to:\n",
    "        - Have minor xaxis ticks every 1 year\n",
    "        - Do not label the minor ticks."
   ]
  },
  {
   "cell_type": "code",
   "execution_count": 6,
   "id": "d7cceb0b",
   "metadata": {},
   "outputs": [],
   "source": [
    "import pandas as pd\n",
    "import matplotlib.pyplot as plt\n",
    "import matplotlib.dates as mdates\n",
    "import matplotlib.ticker as mticks\n",
    "\n",
    "import missingno as miss\n",
    "\n",
    "import seaborn as sns\n",
    "import numpy as np\n",
    "import statsmodels.tsa.api as tsa\n",
    "\n",
    "pd.set_option('display.float_format',lambda x:f\"{x:,.2f}\")"
   ]
  },
  {
   "cell_type": "code",
   "execution_count": 7,
   "id": "83733fc5",
   "metadata": {},
   "outputs": [],
   "source": [
    "sns.set_context('notebook',font_scale=0.9)\n",
    "plt.style.use(['ggplot'])"
   ]
  },
  {
   "cell_type": "code",
   "execution_count": null,
   "id": "5eccfdd1",
   "metadata": {},
   "outputs": [],
   "source": []
  }
 ],
 "metadata": {
  "kernelspec": {
   "display_name": "Python (dojo-env)",
   "language": "python",
   "name": "dojo-env"
  },
  "language_info": {
   "codemirror_mode": {
    "name": "ipython",
    "version": 3
   },
   "file_extension": ".py",
   "mimetype": "text/x-python",
   "name": "python",
   "nbconvert_exporter": "python",
   "pygments_lexer": "ipython3",
   "version": "3.9.15"
  },
  "toc": {
   "base_numbering": 1,
   "nav_menu": {},
   "number_sections": false,
   "sideBar": true,
   "skip_h1_title": false,
   "title_cell": "Table of Contents",
   "title_sidebar": "Contents",
   "toc_cell": false,
   "toc_position": {},
   "toc_section_display": true,
   "toc_window_display": false
  }
 },
 "nbformat": 4,
 "nbformat_minor": 5
}
